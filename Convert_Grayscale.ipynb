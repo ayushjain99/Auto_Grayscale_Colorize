{
  "nbformat": 4,
  "nbformat_minor": 0,
  "metadata": {
    "colab": {
      "name": "Convert_Grayscale",
      "provenance": [],
      "collapsed_sections": []
    },
    "kernelspec": {
      "name": "python3",
      "display_name": "Python 3"
    }
  },
  "cells": [
    {
      "cell_type": "code",
      "metadata": {
        "id": "L5lm3DIQLn-i"
      },
      "source": [
        "import os\n",
        "import cv2\n",
        "path = \"drive/MyDrive/Grayscale_Colorize/test_input\"\n",
        "f_list = os.listdir(path)\n",
        "i = 1\n",
        "for f_name in f_list:\n",
        "  f_path = os.path.join(path, f_name)\n",
        "  image = cv2.imread(f_path)\n",
        "  gray = cv2.cvtColor(image, cv2.COLOR_BGR2GRAY)\n",
        "  cv2.imwrite(f_path, gray)\n",
        "  i += 1\n",
        "  print(\"DONE\", f_path)"
      ],
      "execution_count": null,
      "outputs": []
    }
  ]
}